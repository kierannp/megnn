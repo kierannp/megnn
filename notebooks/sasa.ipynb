{
 "cells": [
  {
   "cell_type": "code",
   "execution_count": 1,
   "metadata": {},
   "outputs": [],
   "source": [
    "import numpy as np\n",
    "import matplotlib.pyplot as plt\n",
    "import rdkit\n",
    "from rdkit import Chem\n",
    "from rdkit.Chem.Draw import IPythonConsole\n",
    "from rdkit.Chem import AllChem, rdFreeSASA"
   ]
  },
  {
   "cell_type": "code",
   "execution_count": 3,
   "metadata": {},
   "outputs": [
    {
     "data": {
      "text/plain": [
       "0"
      ]
     },
     "execution_count": 3,
     "metadata": {},
     "output_type": "execute_result"
    }
   ],
   "source": [
    "mol1 = Chem.MolFromSmiles('c1ccccc1')\n",
    "mol2 = Chem.MolFromSmiles('O')\n",
    "hmol1 = Chem.AddHs(mol1)\n",
    "hmol2 = Chem.AddHs(mol2)\n",
    "AllChem.EmbedMolecule(hmol1)\n",
    "AllChem.EmbedMolecule(hmol2)"
   ]
  },
  {
   "cell_type": "code",
   "execution_count": 18,
   "metadata": {},
   "outputs": [
    {
     "name": "stdout",
     "output_type": "stream",
     "text": [
      "{'__computedProps': <rdkit.rdBase._vectSs object at 0x7f7370a8fa40>, 'SASAClass': 2, 'SASAClassName': 'Unclassified', 'origNoImplicit': False, 'SASA': 4.86543677360736}\n",
      "{'__computedProps': <rdkit.rdBase._vectSs object at 0x7f7370a8fa40>, 'SASAClass': 2, 'SASAClassName': 'Unclassified', 'origNoImplicit': False, 'SASA': 4.962191284613102}\n",
      "{'__computedProps': <rdkit.rdBase._vectSs object at 0x7f7370a8fa40>, 'SASAClass': 2, 'SASAClassName': 'Unclassified', 'origNoImplicit': False, 'SASA': 4.8746400841858915}\n",
      "{'__computedProps': <rdkit.rdBase._vectSs object at 0x7f7370a8fa40>, 'SASAClass': 2, 'SASAClassName': 'Unclassified', 'origNoImplicit': False, 'SASA': 4.916979286759055}\n",
      "{'__computedProps': <rdkit.rdBase._vectSs object at 0x7f7370a8fa40>, 'SASAClass': 2, 'SASAClassName': 'Unclassified', 'origNoImplicit': False, 'SASA': 4.966319883591392}\n",
      "{'__computedProps': <rdkit.rdBase._vectSs object at 0x7f7370a8fa40>, 'SASAClass': 2, 'SASAClassName': 'Unclassified', 'origNoImplicit': False, 'SASA': 4.885234179957148}\n",
      "{'isImplicit': 1, 'SASA': 16.230535811744115}\n",
      "{'isImplicit': 1, 'SASA': 15.96969336444958}\n",
      "{'isImplicit': 1, 'SASA': 16.019120649597653}\n",
      "{'isImplicit': 1, 'SASA': 16.21130788138062}\n",
      "{'isImplicit': 1, 'SASA': 15.952772314788767}\n",
      "{'isImplicit': 1, 'SASA': 16.00407990177115}\n"
     ]
    }
   ],
   "source": [
    "mol = Chem.MolFromSmiles('c1ccccc1')\n",
    "radii = rdFreeSASA.classifyAtoms(mol)\n",
    "mol = Chem.AddHs(mol)\n",
    "AllChem.EmbedMolecule(mol)\n",
    "sasa = rdFreeSASA.CalcSASA(mol, radii=radii)\n",
    "for atom in mol.GetAtoms():\n",
    "    print(atom.GetPropsAsDict()) "
   ]
  },
  {
   "cell_type": "code",
   "execution_count": 6,
   "metadata": {},
   "outputs": [],
   "source": [
    "radii1 = rdFreeSASA.classifyAtoms(hmol1)\n",
    "radii2 = rdFreeSASA.classifyAtoms(hmol2)"
   ]
  },
  {
   "cell_type": "code",
   "execution_count": 14,
   "metadata": {},
   "outputs": [
    {
     "name": "stdout",
     "output_type": "stream",
     "text": [
      "126.17283577623073\n",
      "126.17283577623073\n"
     ]
    }
   ],
   "source": [
    "print(rdFreeSASA.CalcSASA(hmol1, radii1))\n",
    "print(rdFreeSASA.CalcSASA(hmol1, radii2))"
   ]
  },
  {
   "cell_type": "code",
   "execution_count": 12,
   "metadata": {},
   "outputs": [
    {
     "name": "stdout",
     "output_type": "stream",
     "text": [
      "C Unclassified 4.9522666163433708\n",
      "C Unclassified 5.0811918062400654\n",
      "C Unclassified 4.9550214151767236\n",
      "C Unclassified 5.0109747279603019\n",
      "C Unclassified 4.9646065347349975\n",
      "C Unclassified 4.9315742703285199\n",
      "H Unclassified 16.121958496103399\n",
      "H Unclassified 15.924960096583424\n",
      "H Unclassified 16.089396431441607\n",
      "H Unclassified 16.033762867095909\n",
      "H Unclassified 16.094550535296786\n",
      "H Unclassified 16.012571978925607\n"
     ]
    },
    {
     "data": {
      "text/plain": [
       "126.17283577623073"
      ]
     },
     "execution_count": 12,
     "metadata": {},
     "output_type": "execute_result"
    }
   ],
   "source": [
    "atoms1 = hmol1.GetAtoms()\n",
    "atoms2 = hmol2.GetAtoms()\n",
    "for i in range(len(atoms1)):\n",
    "    print(atoms1[i].GetSymbol(), atoms1[i].GetProp('SASAClassName'), atoms1[i].GetProp(\"SASA\"))\n",
    "     \n",
    "sum(float(a.GetProp(\"SASA\")) for a in atoms1)"
   ]
  },
  {
   "cell_type": "code",
   "execution_count": 20,
   "metadata": {},
   "outputs": [
    {
     "name": "stdout",
     "output_type": "stream",
     "text": [
      "rad1: [0.0, 0.0, 0.0, 0.0, 0.0, 0.0, 0.0, 0.0, 0.0, 0.0, 0.0, 0.0] \n",
      "rad2: [0.0, 0.0, 0.0, 0.0, 0.0, 0.0, 0.0, 0.0, 0.0, 0.0, 0.0, 0.0]\n"
     ]
    }
   ],
   "source": [
    "print('rad1: {} \\nrad2: {}'.format(radii1,radii2))"
   ]
  },
  {
   "cell_type": "code",
   "execution_count": 25,
   "metadata": {},
   "outputs": [
    {
     "data": {
      "text/html": [
       "<div>\n",
       "<style scoped>\n",
       "    .dataframe tbody tr th:only-of-type {\n",
       "        vertical-align: middle;\n",
       "    }\n",
       "\n",
       "    .dataframe tbody tr th {\n",
       "        vertical-align: top;\n",
       "    }\n",
       "\n",
       "    .dataframe thead th {\n",
       "        text-align: right;\n",
       "    }\n",
       "</style>\n",
       "<table border=\"1\" class=\"dataframe\">\n",
       "  <thead>\n",
       "    <tr style=\"text-align: right;\">\n",
       "      <th></th>\n",
       "      <th>smiles</th>\n",
       "      <th>index</th>\n",
       "      <th>group</th>\n",
       "    </tr>\n",
       "  </thead>\n",
       "  <tbody>\n",
       "    <tr>\n",
       "      <th>0</th>\n",
       "      <td>CCC(C)(C)C</td>\n",
       "      <td>1</td>\n",
       "      <td>1</td>\n",
       "    </tr>\n",
       "    <tr>\n",
       "      <th>1</th>\n",
       "      <td>CC(C)(C)CN</td>\n",
       "      <td>2</td>\n",
       "      <td>1</td>\n",
       "    </tr>\n",
       "    <tr>\n",
       "      <th>2</th>\n",
       "      <td>CC(C)(C)CO</td>\n",
       "      <td>3</td>\n",
       "      <td>1</td>\n",
       "    </tr>\n",
       "    <tr>\n",
       "      <th>3</th>\n",
       "      <td>CC(C)(C)CF</td>\n",
       "      <td>4</td>\n",
       "      <td>1</td>\n",
       "    </tr>\n",
       "    <tr>\n",
       "      <th>4</th>\n",
       "      <td>CCC(C)(C)N</td>\n",
       "      <td>5</td>\n",
       "      <td>1</td>\n",
       "    </tr>\n",
       "    <tr>\n",
       "      <th>...</th>\n",
       "      <td>...</td>\n",
       "      <td>...</td>\n",
       "      <td>...</td>\n",
       "    </tr>\n",
       "    <tr>\n",
       "      <th>1845</th>\n",
       "      <td>C1CC1C2CO2</td>\n",
       "      <td>1846</td>\n",
       "      <td>1</td>\n",
       "    </tr>\n",
       "    <tr>\n",
       "      <th>1846</th>\n",
       "      <td>C1NC1C2CN2</td>\n",
       "      <td>1847</td>\n",
       "      <td>1</td>\n",
       "    </tr>\n",
       "    <tr>\n",
       "      <th>1847</th>\n",
       "      <td>C1NC1C2CO2</td>\n",
       "      <td>1848</td>\n",
       "      <td>1</td>\n",
       "    </tr>\n",
       "    <tr>\n",
       "      <th>1848</th>\n",
       "      <td>C1OC1C2CO2</td>\n",
       "      <td>1849</td>\n",
       "      <td>1</td>\n",
       "    </tr>\n",
       "    <tr>\n",
       "      <th>1849</th>\n",
       "      <td>C1CC1N2CC2</td>\n",
       "      <td>1850</td>\n",
       "      <td>1</td>\n",
       "    </tr>\n",
       "  </tbody>\n",
       "</table>\n",
       "<p>1850 rows × 3 columns</p>\n",
       "</div>"
      ],
      "text/plain": [
       "          smiles  index  group\n",
       "0     CCC(C)(C)C      1      1\n",
       "1     CC(C)(C)CN      2      1\n",
       "2     CC(C)(C)CO      3      1\n",
       "3     CC(C)(C)CF      4      1\n",
       "4     CCC(C)(C)N      5      1\n",
       "...          ...    ...    ...\n",
       "1845  C1CC1C2CO2   1846      1\n",
       "1846  C1NC1C2CN2   1847      1\n",
       "1847  C1NC1C2CO2   1848      1\n",
       "1848  C1OC1C2CO2   1849      1\n",
       "1849  C1CC1N2CC2   1850      1\n",
       "\n",
       "[1850 rows x 3 columns]"
      ]
     },
     "execution_count": 25,
     "metadata": {},
     "output_type": "execute_result"
    }
   ],
   "source": [
    "import pandas as pd \n",
    "names = ['smiles','index','group']\n",
    "pd.read_csv('/raid6/homes/kierannp/projects/megnn/datasets/gdb11/gdb11_size06.smi', names=names, delimiter='\t')"
   ]
  },
  {
   "cell_type": "code",
   "execution_count": 28,
   "metadata": {},
   "outputs": [
    {
     "name": "stdout",
     "output_type": "stream",
     "text": [
      "n 1.00866491597\n",
      "H 1.00794\n",
      "He 4.002602\n",
      "Li 6.941\n",
      "Be 9.012182\n",
      "B 10.811\n",
      "C 12.0107\n",
      "N 14.0067\n",
      "O 15.9994\n",
      "F 18.9984032\n",
      "Ne 20.1797\n",
      "Na 22.98977\n",
      "Mg 24.305\n",
      "Al 26.981538\n",
      "Si 28.0855\n",
      "P 30.973761\n",
      "S 32.065\n",
      "Cl 35.453\n",
      "Ar 39.948\n",
      "K 39.0983\n",
      "Ca 40.078\n",
      "Sc 44.95591\n",
      "Ti 47.867\n",
      "V 50.9415\n",
      "Cr 51.9961\n",
      "Mn 54.938049\n",
      "Fe 55.845\n",
      "Co 58.9332\n",
      "Ni 58.6934\n",
      "Cu 63.546\n",
      "Zn 65.409\n",
      "Ga 69.723\n",
      "Ge 72.64\n",
      "As 74.9216\n",
      "Se 78.96\n",
      "Br 79.904\n",
      "Kr 83.798\n",
      "Rb 85.4678\n",
      "Sr 87.62\n",
      "Y 88.90585\n",
      "Zr 91.224\n",
      "Nb 92.90638\n",
      "Mo 95.94\n",
      "Tc 98\n",
      "Ru 101.07\n",
      "Rh 102.9055\n",
      "Pd 106.42\n",
      "Ag 107.8682\n",
      "Cd 112.411\n",
      "In 114.818\n",
      "Sn 118.71\n",
      "Sb 121.76\n",
      "Te 127.6\n",
      "I 126.90447\n",
      "Xe 131.293\n",
      "Cs 132.90545\n",
      "Ba 137.327\n",
      "La 138.9055\n",
      "Ce 140.116\n",
      "Pr 140.90765\n",
      "Nd 144.24\n",
      "Pm 145\n",
      "Sm 150.36\n",
      "Eu 151.964\n",
      "Gd 157.25\n",
      "Tb 158.92534\n",
      "Dy 162.5\n",
      "Ho 164.93032\n",
      "Er 167.259\n",
      "Tm 168.93421\n",
      "Yb 173.04\n",
      "Lu 174.967\n",
      "Hf 178.49\n",
      "Ta 180.9479\n",
      "W 183.84\n",
      "Re 186.207\n",
      "Os 190.23\n",
      "Ir 192.217\n",
      "Pt 195.078\n",
      "Au 196.96655\n",
      "Hg 200.59\n",
      "Tl 204.3833\n",
      "Pb 207.2\n",
      "Bi 208.98038\n",
      "Po 209\n",
      "At 210\n",
      "Rn 222\n",
      "Fr 223\n",
      "Ra 226\n",
      "Ac 227\n",
      "Th 232.0381\n",
      "Pa 231.03588\n",
      "U 238.02891\n",
      "Np 237\n",
      "Pu 244\n",
      "Am 243\n",
      "Cm 247\n",
      "Bk 247\n",
      "Cf 251\n",
      "Es 252\n",
      "Fm 257\n",
      "Md 258\n",
      "No 259\n",
      "Lr 262\n",
      "Rf 261\n",
      "Db 262\n",
      "Sg 266\n",
      "Bh 264\n",
      "Hs 277\n",
      "Mt 268\n",
      "Ds 281\n",
      "Rg 272\n",
      "Cn 285\n",
      "Nh 286\n",
      "Fl 289\n",
      "Mc 289\n",
      "Lv 293\n",
      "Ts 294\n",
      "Og 294\n"
     ]
    }
   ],
   "source": [
    "import periodictable\n",
    "for el in periodictable.elements:\n",
    "    print(el, el.mass)"
   ]
  },
  {
   "cell_type": "code",
   "execution_count": null,
   "metadata": {},
   "outputs": [],
   "source": []
  }
 ],
 "metadata": {
  "kernelspec": {
   "display_name": "Python 3",
   "language": "python",
   "name": "python3"
  },
  "language_info": {
   "codemirror_mode": {
    "name": "ipython",
    "version": 3
   },
   "file_extension": ".py",
   "mimetype": "text/x-python",
   "name": "python",
   "nbconvert_exporter": "python",
   "pygments_lexer": "ipython3",
   "version": "3.10.6"
  },
  "orig_nbformat": 4
 },
 "nbformat": 4,
 "nbformat_minor": 2
}
