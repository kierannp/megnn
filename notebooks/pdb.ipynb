{
 "cells": [
  {
   "cell_type": "code",
   "execution_count": 1,
   "metadata": {},
   "outputs": [
    {
     "name": "stderr",
     "output_type": "stream",
     "text": [
      "Warning: importing 'simtk.openmm' is deprecated.  Import 'openmm' instead.\n",
      "2023-04-01 14:25:22.678358: I tensorflow/core/platform/cpu_feature_guard.cc:193] This TensorFlow binary is optimized with oneAPI Deep Neural Network Library (oneDNN) to use the following CPU instructions in performance-critical operations:  AVX2 FMA\n",
      "To enable them in other operations, rebuild TensorFlow with the appropriate compiler flags.\n",
      "2023-04-01 14:25:31.567360: W tensorflow/compiler/xla/stream_executor/platform/default/dso_loader.cc:64] Could not load dynamic library 'libnvinfer.so.7'; dlerror: libnvinfer.so.7: cannot open shared object file: No such file or directory; LD_LIBRARY_PATH: /usr/local/mpi/gcc/openmpi-4.1.2/lib\n",
      "2023-04-01 14:25:31.567458: W tensorflow/compiler/xla/stream_executor/platform/default/dso_loader.cc:64] Could not load dynamic library 'libnvinfer_plugin.so.7'; dlerror: libnvinfer_plugin.so.7: cannot open shared object file: No such file or directory; LD_LIBRARY_PATH: /usr/local/mpi/gcc/openmpi-4.1.2/lib\n",
      "2023-04-01 14:25:31.567467: W tensorflow/compiler/tf2tensorrt/utils/py_utils.cc:38] TF-TRT Warning: Cannot dlopen some TensorRT libraries. If you would like to use Nvidia GPU with TensorRT, please make sure the missing libraries mentioned above are installed properly.\n"
     ]
    }
   ],
   "source": [
    "import numpy as np\n",
    "import pandas as pd\n",
    "import matplotlib.pyplot as plt\n",
    "import networkx as nx\n",
    "import mbuild as mb\n",
    "import parmed\n",
    "import torch_geometric as tg\n",
    "from torch_geometric.loader import DataLoader\n",
    "import shutil\n",
    "import rdkit\n",
    "from rdkit import Chem\n",
    "import mbuild as mb\n",
    "import torch\n",
    "from torch import nn, optim\n",
    "\n",
    "import sys\n",
    "sys.path.append(\"/raid6/homes/kierannp/projects/megnn\")\n",
    "from megnn.datasets import *\n",
    "from megnn.megnn import *\n",
    "from megnn.utils import *"
   ]
  },
  {
   "cell_type": "code",
   "execution_count": 2,
   "metadata": {},
   "outputs": [],
   "source": [
    "dat = PdbBind_Dataset(root='/raid6/homes/kierannp/projects/megnn/datasets/v2019-other-PL')"
   ]
  },
  {
   "cell_type": "code",
   "execution_count": 6,
   "metadata": {},
   "outputs": [
    {
     "data": {
      "text/plain": [
       "PairData(edge_index_s=[2, 206], x_s=[207, 10], positions_s=[207, 3], n_nodes_s=[1], edge_index_t=[2, 25], x_t=[24, 10], positions_t=[24, 3], n_nodes_t=[1], y=[1])"
      ]
     },
     "execution_count": 6,
     "metadata": {},
     "output_type": "execute_result"
    }
   ],
   "source": [
    "d"
   ]
  },
  {
   "cell_type": "code",
   "execution_count": 14,
   "metadata": {},
   "outputs": [],
   "source": [
    "for d in dat:\n",
    "    if torch.isnan(d.edge_index_s).sum() > 0:\n",
    "        print(d.edge_index_s)\n",
    "    if torch.isnan(d.edge_index_t).sum() > 0:\n",
    "        print(d.edge_index_t)\n",
    "    if torch.isnan(d.x_s).sum() > 0:\n",
    "        print(d.x_s)\n",
    "    if torch.isnan(d.x_t).sum() > 0:\n",
    "        print(d.x_t)\n",
    "    if torch.isnan(d.positions_s).sum() > 0:\n",
    "        print(d.positions_s)\n",
    "    if torch.isnan(d.positions_t).sum() > 0:\n",
    "        print(d.positions_t)"
   ]
  },
  {
   "cell_type": "code",
   "execution_count": 17,
   "metadata": {},
   "outputs": [],
   "source": [
    "y = [float(d.y) for d in dat]"
   ]
  },
  {
   "cell_type": "code",
   "execution_count": 18,
   "metadata": {},
   "outputs": [
    {
     "data": {
      "text/plain": [
       "(array([  2.,  12.,  35.,  91., 176., 285., 318., 196.,  56.,  23.]),\n",
       " array([-24.3729248 , -21.89508581, -19.41724682, -16.93940783,\n",
       "        -14.46156884, -11.98372985,  -9.50589086,  -7.02805187,\n",
       "         -4.55021288,  -2.07237389,   0.4054651 ]),\n",
       " <BarContainer object of 10 artists>)"
      ]
     },
     "execution_count": 18,
     "metadata": {},
     "output_type": "execute_result"
    },
    {
     "data": {
      "image/png": "[encoded data removed]",
      "text/plain": [
       "<Figure size 640x480 with 1 Axes>"
      ]
     },
     "metadata": {},
     "output_type": "display_data"
    }
   ],
   "source": [
    "plt.hist(y)"
   ]
  },
  {
   "cell_type": "code",
   "execution_count": 12,
   "metadata": {},
   "outputs": [
    {
     "name": "stdout",
     "output_type": "stream",
     "text": [
      "-  -  -  -  -  -  -  -  -  -------\n",
      "0  0  0  0  0  0  0  1  0   0.0782\n",
      "1  0  0  0  0  0  0  0  0   0.22\n",
      "1  0  0  0  0  0  0  0  0   0.22\n",
      "1  0  0  0  0  0  0  0  0   0.22\n",
      "0  0  0  1  0  0  0  0  0   0.0292\n",
      "1  0  0  0  0  0  0  0  0   0.1141\n",
      "0  0  0  1  0  0  0  0  0  -0.0235\n",
      "1  0  0  0  0  0  0  0  0  -0.0169\n",
      "1  0  0  0  0  0  0  0  0  -0.0169\n",
      "0  0  0  1  0  0  0  0  0   0.8194\n",
      "0  0  0  0  0  1  0  0  0  -0.8084\n",
      "0  0  0  0  0  1  0  0  0  -0.8084\n",
      "0  0  0  1  0  0  0  0  0   0.5621\n",
      "0  0  0  0  0  1  0  0  0  -0.5889\n",
      "0  0  0  0  0  0  0  1  0  -0.4157\n",
      "1  0  0  0  0  0  0  0  0   0.2719\n",
      "0  0  0  1  0  0  0  0  0  -0.0875\n",
      "1  0  0  0  0  0  0  0  0   0.0969\n",
      "0  0  0  1  0  0  0  0  0   0.2985\n",
      "1  0  0  0  0  0  0  0  0  -0.0297\n",
      "0  0  0  1  0  0  0  0  0  -0.3192\n",
      "1  0  0  0  0  0  0  0  0   0.0791\n",
      "1  0  0  0  0  0  0  0  0   0.0791\n",
      "1  0  0  0  0  0  0  0  0   0.0791\n",
      "0  0  0  1  0  0  0  0  0  -0.3192\n",
      "1  0  0  0  0  0  0  0  0   0.0791\n",
      "1  0  0  0  0  0  0  0  0   0.0791\n",
      "1  0  0  0  0  0  0  0  0   0.0791\n",
      "0  0  0  1  0  0  0  0  0   0.5973\n",
      "0  0  0  0  0  1  0  0  0  -0.5679\n",
      "0  0  0  0  0  0  0  1  0  -0.4157\n",
      "1  0  0  0  0  0  0  0  0   0.2719\n",
      "0  0  0  1  0  0  0  0  0  -0.0518\n",
      "1  0  0  0  0  0  0  0  0   0.0922\n",
      "0  0  0  1  0  0  0  0  0  -0.1102\n",
      "1  0  0  0  0  0  0  0  0   0.0457\n",
      "1  0  0  0  0  0  0  0  0   0.0457\n",
      "0  0  0  1  0  0  0  0  0   0.3531\n",
      "1  0  0  0  0  0  0  0  0  -0.0361\n",
      "0  0  0  1  0  0  0  0  0  -0.4121\n",
      "1  0  0  0  0  0  0  0  0   0.1\n",
      "1  0  0  0  0  0  0  0  0   0.1\n",
      "1  0  0  0  0  0  0  0  0   0.1\n",
      "0  0  0  1  0  0  0  0  0  -0.4121\n",
      "1  0  0  0  0  0  0  0  0   0.1\n",
      "1  0  0  0  0  0  0  0  0   0.1\n",
      "1  0  0  0  0  0  0  0  0   0.1\n",
      "0  0  0  1  0  0  0  0  0   0.5973\n",
      "0  0  0  0  0  1  0  0  0  -0.5679\n",
      "0  0  0  0  0  0  0  1  0  -0.4157\n",
      "1  0  0  0  0  0  0  0  0   0.2719\n",
      "0  0  0  1  0  0  0  0  0   0.0143\n",
      "1  0  0  0  0  0  0  0  0   0.1048\n",
      "0  0  0  1  0  0  0  0  0  -0.2041\n",
      "1  0  0  0  0  0  0  0  0   0.0797\n",
      "1  0  0  0  0  0  0  0  0   0.0797\n",
      "0  0  0  1  0  0  0  0  0   0.713\n",
      "0  0  0  0  0  1  0  0  0  -0.5931\n",
      "0  0  0  0  0  0  0  1  0  -0.9191\n",
      "1  0  0  0  0  0  0  0  0   0.4196\n",
      "1  0  0  0  0  0  0  0  0   0.4196\n",
      "0  0  0  1  0  0  0  0  0   0.5973\n",
      "0  0  0  0  0  1  0  0  0  -0.5679\n",
      "0  0  0  0  0  0  0  1  0  -0.4157\n",
      "1  0  0  0  0  0  0  0  0   0.2719\n",
      "0  0  0  1  0  0  0  0  0  -0.0518\n",
      "1  0  0  0  0  0  0  0  0   0.0922\n",
      "0  0  0  1  0  0  0  0  0  -0.1102\n",
      "1  0  0  0  0  0  0  0  0   0.0457\n",
      "1  0  0  0  0  0  0  0  0   0.0457\n",
      "0  0  0  1  0  0  0  0  0   0.3531\n",
      "1  0  0  0  0  0  0  0  0  -0.0361\n",
      "0  0  0  1  0  0  0  0  0  -0.4121\n",
      "1  0  0  0  0  0  0  0  0   0.1\n",
      "1  0  0  0  0  0  0  0  0   0.1\n",
      "1  0  0  0  0  0  0  0  0   0.1\n",
      "0  0  0  1  0  0  0  0  0  -0.4121\n",
      "1  0  0  0  0  0  0  0  0   0.1\n",
      "1  0  0  0  0  0  0  0  0   0.1\n",
      "1  0  0  0  0  0  0  0  0   0.1\n",
      "0  0  0  1  0  0  0  0  0   0.5973\n",
      "0  0  0  0  0  1  0  0  0  -0.5679\n",
      "0  0  0  0  0  0  0  1  0  -0.4157\n",
      "1  0  0  0  0  0  0  0  0   0.2719\n",
      "0  0  0  1  0  0  0  0  0   0.0143\n",
      "1  0  0  0  0  0  0  0  0   0.1048\n",
      "0  0  0  1  0  0  0  0  0  -0.2041\n",
      "1  0  0  0  0  0  0  0  0   0.0797\n",
      "1  0  0  0  0  0  0  0  0   0.0797\n",
      "0  0  0  1  0  0  0  0  0   0.713\n",
      "0  0  0  0  0  1  0  0  0  -0.5931\n",
      "0  0  0  0  0  0  0  1  0  -0.9191\n",
      "1  0  0  0  0  0  0  0  0   0.4196\n",
      "1  0  0  0  0  0  0  0  0   0.4196\n",
      "0  0  0  1  0  0  0  0  0   0.5973\n",
      "0  0  0  0  0  1  0  0  0  -0.5679\n",
      "0  0  0  0  0  0  0  1  0  -0.3479\n",
      "1  0  0  0  0  0  0  0  0   0.2747\n",
      "0  0  0  1  0  0  0  0  0  -0.2637\n",
      "1  0  0  0  0  0  0  0  0   0.156\n",
      "0  0  0  1  0  0  0  0  0  -0.0007\n",
      "1  0  0  0  0  0  0  0  0   0.0327\n",
      "1  0  0  0  0  0  0  0  0   0.0327\n",
      "0  0  0  1  0  0  0  0  0   0.039\n",
      "1  0  0  0  0  0  0  0  0   0.0285\n",
      "1  0  0  0  0  0  0  0  0   0.0285\n",
      "0  0  0  1  0  0  0  0  0   0.0486\n",
      "1  0  0  0  0  0  0  0  0   0.0687\n",
      "1  0  0  0  0  0  0  0  0   0.0687\n",
      "0  0  0  0  0  0  0  1  0  -0.5295\n",
      "1  0  0  0  0  0  0  0  0   0.3456\n",
      "0  0  0  1  0  0  0  0  0   0.8076\n",
      "0  0  0  0  0  0  0  1  0  -0.8627\n",
      "1  0  0  0  0  0  0  0  0   0.4478\n",
      "1  0  0  0  0  0  0  0  0   0.4478\n",
      "0  0  0  0  0  0  0  1  0  -0.8627\n",
      "1  0  0  0  0  0  0  0  0   0.4478\n",
      "1  0  0  0  0  0  0  0  0   0.4478\n",
      "0  0  0  1  0  0  0  0  0   0.7341\n",
      "0  0  0  0  0  1  0  0  0  -0.5894\n",
      "0  0  0  0  0  0  0  1  0  -0.4157\n",
      "1  0  0  0  0  0  0  0  0   0.2719\n",
      "0  0  0  1  0  0  0  0  0  -0.0518\n",
      "1  0  0  0  0  0  0  0  0   0.0922\n",
      "0  0  0  1  0  0  0  0  0  -0.1102\n",
      "1  0  0  0  0  0  0  0  0   0.0457\n",
      "1  0  0  0  0  0  0  0  0   0.0457\n",
      "0  0  0  1  0  0  0  0  0   0.3531\n",
      "1  0  0  0  0  0  0  0  0  -0.0361\n",
      "0  0  0  1  0  0  0  0  0  -0.4121\n",
      "1  0  0  0  0  0  0  0  0   0.1\n",
      "1  0  0  0  0  0  0  0  0   0.1\n",
      "1  0  0  0  0  0  0  0  0   0.1\n",
      "0  0  0  1  0  0  0  0  0  -0.4121\n",
      "1  0  0  0  0  0  0  0  0   0.1\n",
      "1  0  0  0  0  0  0  0  0   0.1\n",
      "1  0  0  0  0  0  0  0  0   0.1\n",
      "0  0  0  1  0  0  0  0  0   0.5973\n",
      "0  0  0  0  0  1  0  0  0  -0.5679\n",
      "0  0  0  0  0  0  0  1  0  -0.3479\n",
      "1  0  0  0  0  0  0  0  0   0.2747\n",
      "0  0  0  1  0  0  0  0  0  -0.2637\n",
      "1  0  0  0  0  0  0  0  0   0.156\n",
      "0  0  0  1  0  0  0  0  0  -0.0007\n",
      "1  0  0  0  0  0  0  0  0   0.0327\n",
      "1  0  0  0  0  0  0  0  0   0.0327\n",
      "0  0  0  1  0  0  0  0  0   0.039\n",
      "1  0  0  0  0  0  0  0  0   0.0285\n",
      "1  0  0  0  0  0  0  0  0   0.0285\n",
      "0  0  0  1  0  0  0  0  0   0.0486\n",
      "1  0  0  0  0  0  0  0  0   0.0687\n",
      "1  0  0  0  0  0  0  0  0   0.0687\n",
      "0  0  0  0  0  0  0  1  0  -0.5295\n",
      "1  0  0  0  0  0  0  0  0   0.3456\n",
      "0  0  0  1  0  0  0  0  0   0.8076\n",
      "0  0  0  0  0  0  0  1  0  -0.8627\n",
      "1  0  0  0  0  0  0  0  0   0.4478\n",
      "1  0  0  0  0  0  0  0  0   0.4478\n",
      "0  0  0  0  0  0  0  1  0  -0.8627\n",
      "1  0  0  0  0  0  0  0  0   0.4478\n",
      "1  0  0  0  0  0  0  0  0   0.4478\n",
      "0  0  0  1  0  0  0  0  0   0.7341\n",
      "0  0  0  0  0  1  0  0  0  -0.5894\n",
      "0  0  0  0  0  0  0  1  0  -0.3479\n",
      "1  0  0  0  0  0  0  0  0   0.2747\n",
      "0  0  0  1  0  0  0  0  0  -0.2637\n",
      "1  0  0  0  0  0  0  0  0   0.156\n",
      "0  0  0  1  0  0  0  0  0  -0.0007\n",
      "1  0  0  0  0  0  0  0  0   0.0327\n",
      "1  0  0  0  0  0  0  0  0   0.0327\n",
      "0  0  0  1  0  0  0  0  0   0.039\n",
      "1  0  0  0  0  0  0  0  0   0.0285\n",
      "1  0  0  0  0  0  0  0  0   0.0285\n",
      "0  0  0  1  0  0  0  0  0   0.0486\n",
      "1  0  0  0  0  0  0  0  0   0.0687\n",
      "1  0  0  0  0  0  0  0  0   0.0687\n",
      "0  0  0  0  0  0  0  1  0  -0.5295\n",
      "1  0  0  0  0  0  0  0  0   0.3456\n",
      "0  0  0  1  0  0  0  0  0   0.8076\n",
      "0  0  0  0  0  0  0  1  0  -0.8627\n",
      "1  0  0  0  0  0  0  0  0   0.4478\n",
      "1  0  0  0  0  0  0  0  0   0.4478\n",
      "0  0  0  0  0  0  0  1  0  -0.8627\n",
      "1  0  0  0  0  0  0  0  0   0.4478\n",
      "1  0  0  0  0  0  0  0  0   0.4478\n",
      "0  0  0  1  0  0  0  0  0   0.7341\n",
      "0  0  0  0  0  1  0  0  0  -0.5894\n",
      "0  0  0  0  0  0  0  1  0  -0.3821\n",
      "1  0  0  0  0  0  0  0  0   0.2681\n",
      "0  0  0  1  0  0  0  0  0  -0.31\n",
      "1  0  0  0  0  0  0  0  0   0.1375\n",
      "0  0  0  1  0  0  0  0  0   0.0363\n",
      "1  0  0  0  0  0  0  0  0   0.0766\n",
      "0  0  0  1  0  0  0  0  0  -0.3498\n",
      "1  0  0  0  0  0  0  0  0   0.1021\n",
      "1  0  0  0  0  0  0  0  0   0.1021\n",
      "1  0  0  0  0  0  0  0  0   0.1021\n",
      "0  0  0  1  0  0  0  0  0  -0.0323\n",
      "1  0  0  0  0  0  0  0  0   0.0321\n",
      "1  0  0  0  0  0  0  0  0   0.0321\n",
      "0  0  0  1  0  0  0  0  0  -0.0699\n",
      "1  0  0  0  0  0  0  0  0   0.0196\n",
      "1  0  0  0  0  0  0  0  0   0.0196\n",
      "1  0  0  0  0  0  0  0  0   0.0196\n",
      "0  0  0  1  0  0  0  0  0   0.8343\n",
      "0  0  0  0  0  1  0  0  0  -0.819\n",
      "0  0  0  0  0  1  0  0  0  -0.819\n",
      "-  -  -  -  -  -  -  -  -  -------\n"
     ]
    }
   ],
   "source": [
    "from tabulate import tabulate\n",
    "print(tabulate(d.x_s))"
   ]
  },
  {
   "cell_type": "code",
   "execution_count": 1,
   "metadata": {},
   "outputs": [
    {
     "ename": "NameError",
     "evalue": "name 'torch' is not defined",
     "output_type": "error",
     "traceback": [
      "\u001b[0;31m---------------------------------------------------------------------------\u001b[0m",
      "\u001b[0;31mNameError\u001b[0m                                 Traceback (most recent call last)",
      "\u001b[1;32m/raid6/homes/kierannp/projects/megnn/notebooks/pdb.ipynb Cell 2\u001b[0m in \u001b[0;36m<cell line: 3>\u001b[0;34m()\u001b[0m\n\u001b[1;32m      <a href='vscode-notebook-cell://ssh-remote%2Brahman/raid6/homes/kierannp/projects/megnn/notebooks/pdb.ipynb#W1sdnNjb2RlLXJlbW90ZQ%3D%3D?line=0'>1</a>\u001b[0m \u001b[39m# hyperparameters\u001b[39;00m\n\u001b[1;32m      <a href='vscode-notebook-cell://ssh-remote%2Brahman/raid6/homes/kierannp/projects/megnn/notebooks/pdb.ipynb#W1sdnNjb2RlLXJlbW90ZQ%3D%3D?line=1'>2</a>\u001b[0m n_epochs  \u001b[39m=\u001b[39m \u001b[39m30\u001b[39m\n\u001b[0;32m----> <a href='vscode-notebook-cell://ssh-remote%2Brahman/raid6/homes/kierannp/projects/megnn/notebooks/pdb.ipynb#W1sdnNjb2RlLXJlbW90ZQ%3D%3D?line=2'>3</a>\u001b[0m device \u001b[39m=\u001b[39m torch\u001b[39m.\u001b[39mdevice(\u001b[39m'\u001b[39m\u001b[39mcuda\u001b[39m\u001b[39m'\u001b[39m \u001b[39mif\u001b[39;00m torch\u001b[39m.\u001b[39mcuda\u001b[39m.\u001b[39mis_available() \u001b[39melse\u001b[39;00m \u001b[39m'\u001b[39m\u001b[39mcpu\u001b[39m\u001b[39m'\u001b[39m)\n\u001b[1;32m      <a href='vscode-notebook-cell://ssh-remote%2Brahman/raid6/homes/kierannp/projects/megnn/notebooks/pdb.ipynb#W1sdnNjb2RlLXJlbW90ZQ%3D%3D?line=3'>4</a>\u001b[0m dtype \u001b[39m=\u001b[39m torch\u001b[39m.\u001b[39mfloat32\n\u001b[1;32m      <a href='vscode-notebook-cell://ssh-remote%2Brahman/raid6/homes/kierannp/projects/megnn/notebooks/pdb.ipynb#W1sdnNjb2RlLXJlbW90ZQ%3D%3D?line=4'>5</a>\u001b[0m batch_size \u001b[39m=\u001b[39m \u001b[39m16\u001b[39m\n",
      "\u001b[0;31mNameError\u001b[0m: name 'torch' is not defined"
     ]
    }
   ],
   "source": [
    "# hyperparameters\n",
    "n_epochs  = 30\n",
    "device = torch.device('cuda' if torch.cuda.is_available() else 'cpu')\n",
    "dtype = torch.float32\n",
    "batch_size = 16\n",
    "\n",
    "# dataset\n",
    "dat = PdbBind_Dataset(root='/raid6/homes/kierannp/projects/megnn/datasets/v2019-other-PL')\n",
    "dat.shuffle()\n",
    "train_dataset = dat[:int(len(dat)*.8)]\n",
    "test_dataset = dat[int(len(dat)*.8):]\n",
    "train_loader = DataLoader(train_dataset, batch_size=batch_size, follow_batch=['x_s', 'x_t', 'positions_s', 'positions_t'], shuffle=True)\n",
    "test_loader = DataLoader(test_dataset, batch_size=batch_size, follow_batch=['x_s', 'x_t', 'positions_s', 'positions_t'], shuffle=False)\n",
    "\n",
    "# model\n",
    "model = MEGNN(n_graphs=2, in_node_nf=110, in_edge_nf=0, hidden_nf=256, device=device, n_layers=8, coords_weight=1.,\n",
    "             attention=True, node_attr=1)\n",
    "model.load_state_dict(torch.load('../models/MEGNN_2023-02-14 12:02:01.022340.pth', map_location=device))\n",
    "model.eval()\n",
    "\n",
    "# optimizer and loss function\n",
    "optimizer = optim.Adam(model.parameters(), lr=1e-3)\n",
    "criterion = nn.MSELoss()"
   ]
  },
  {
   "cell_type": "code",
   "execution_count": 9,
   "metadata": {},
   "outputs": [],
   "source": [
    "predictions, actuals = [], []\n",
    "for i, data in enumerate(train_loader):\n",
    "    conversion = convert_to_dense(data, device, dtype)\n",
    "\n",
    "    one_hot_s = conversion[0]\n",
    "    one_hot_t = conversion[1]\n",
    "    edges_s = conversion[2]\n",
    "    edges_t = conversion[3]\n",
    "    atom_mask_s = conversion[4]\n",
    "    atom_mask_t = conversion[5]\n",
    "    edge_mask_s = conversion[6]\n",
    "    edge_mask_t = conversion[7]\n",
    "    n_nodes_s = conversion[8]\n",
    "    n_nodes_t = conversion[9]\n",
    "    atom_positions_s = conversion[10]\n",
    "    atom_positions_t = conversion[11]\n",
    "    batch_size_s = conversion[12]\n",
    "    label = conversion[13]\n",
    "\n",
    "    pred = model(\n",
    "        h0 = [one_hot_s, one_hot_t], \n",
    "        all_edges = [edges_s, edges_t], \n",
    "        all_edge_attr = [None, None], \n",
    "        node_masks = [atom_mask_s, atom_mask_t], \n",
    "        edge_masks = [edge_mask_s, edge_mask_t],\n",
    "        n_nodes = [n_nodes_s, n_nodes_t], \n",
    "        x = [atom_positions_s, atom_positions_t]\n",
    "    )\n",
    "    loss = criterion(pred, label)  # Compute the loss.\n",
    "    predictions.extend(list(pred.detach().numpy()*dat.std+dat.mean))\n",
    "    actuals.extend(list(label.detach().numpy()*dat.std+dat.mean))"
   ]
  },
  {
   "cell_type": "code",
   "execution_count": 10,
   "metadata": {},
   "outputs": [
    {
     "data": {
      "image/png": "[encoded data removed]",
      "text/plain": [
       "<Figure size 350x262.5 with 1 Axes>"
      ]
     },
     "metadata": {},
     "output_type": "display_data"
    }
   ],
   "source": [
    "import scienceplots\n",
    "pparam = dict(xlabel='COF (Prediction)', ylabel='COF (Actual)')\n",
    "\n",
    "x = np.linspace(0.75, 1.25, 201)\n",
    "\n",
    "with plt.style.context(['science','no-latex']):\n",
    "    fig, ax = plt.subplots()\n",
    "    ax.plot(actuals, predictions, '.',alpha=.1)\n",
    "    ax.plot(np.linspace(min(predictions), max(predictions),100), np.linspace(min(predictions), max(predictions),100), linestyle='--',color='black')\n",
    "\n",
    "    # ax.autoscale(tight=True)\n",
    "    ax.set_xlim(.1,.18)\n",
    "    ax.set_ylim(.1,.18)\n",
    "    ax.set(**pparam)\n",
    "    fig.savefig('megnn.pdf')\n",
    "    fig.savefig('megnn.jpg', dpi=300)"
   ]
  },
  {
   "cell_type": "code",
   "execution_count": 17,
   "metadata": {},
   "outputs": [
    {
     "data": {
      "text/plain": [
       "1956753"
      ]
     },
     "execution_count": 17,
     "metadata": {},
     "output_type": "execute_result"
    }
   ],
   "source": [
    "model_parameters = filter(lambda p: p.requires_grad, model.parameters())\n",
    "params = sum([np.prod(p.size()) for p in model_parameters])\n",
    "params"
   ]
  },
  {
   "attachments": {},
   "cell_type": "markdown",
   "metadata": {},
   "source": [
    "# GNN"
   ]
  },
  {
   "cell_type": "code",
   "execution_count": 35,
   "metadata": {},
   "outputs": [
    {
     "data": {
      "text/plain": [
       "MGNN(\n",
       "  (embedding): Linear(in_features=110, out_features=256, bias=True)\n",
       "  (gcl_0_0): GCNConv(256, 256)\n",
       "  (gcl_0_1): GCNConv(256, 256)\n",
       "  (gcl_0_2): GCNConv(256, 256)\n",
       "  (gcl_0_3): GCNConv(256, 256)\n",
       "  (gcl_0_4): GCNConv(256, 256)\n",
       "  (gcl_0_5): GCNConv(256, 256)\n",
       "  (gcl_0_6): GCNConv(256, 256)\n",
       "  (gcl_0_7): GCNConv(256, 256)\n",
       "  (gcl_1_0): GCNConv(256, 256)\n",
       "  (gcl_1_1): GCNConv(256, 256)\n",
       "  (gcl_1_2): GCNConv(256, 256)\n",
       "  (gcl_1_3): GCNConv(256, 256)\n",
       "  (gcl_1_4): GCNConv(256, 256)\n",
       "  (gcl_1_5): GCNConv(256, 256)\n",
       "  (gcl_1_6): GCNConv(256, 256)\n",
       "  (gcl_1_7): GCNConv(256, 256)\n",
       "  (node_dec_0): Sequential(\n",
       "    (0): Linear(in_features=256, out_features=256, bias=True)\n",
       "    (1): ReLU()\n",
       "    (2): Linear(in_features=256, out_features=256, bias=True)\n",
       "  )\n",
       "  (node_dec_1): Sequential(\n",
       "    (0): Linear(in_features=256, out_features=256, bias=True)\n",
       "    (1): ReLU()\n",
       "    (2): Linear(in_features=256, out_features=256, bias=True)\n",
       "  )\n",
       "  (grand_dec): Sequential(\n",
       "    (0): Linear(in_features=512, out_features=512, bias=True)\n",
       "    (1): ReLU()\n",
       "    (2): Linear(in_features=512, out_features=1, bias=True)\n",
       "  )\n",
       ")"
      ]
     },
     "execution_count": 35,
     "metadata": {},
     "output_type": "execute_result"
    }
   ],
   "source": [
    "model = MGNN(n_graphs=2, in_node_nf=110, in_edge_nf=0, hidden_nf=256, device=device, n_layers=8)\n",
    "model.load_state_dict(torch.load('../models/MGNN_2023-02-09 13:16:02.591261.pth', map_location=device))\n",
    "model.eval()"
   ]
  },
  {
   "cell_type": "code",
   "execution_count": 37,
   "metadata": {},
   "outputs": [],
   "source": [
    "predictions, actuals = [], []\n",
    "for i, data in enumerate(train_loader):\n",
    "    pred = model(\n",
    "        h0 = [data.x_s, data.x_t], \n",
    "        all_edges = [data.edge_index_s, data.edge_index_t], \n",
    "        all_edge_attr = [None, None], \n",
    "        n_nodes = [data.n_nodes_s, data.n_nodes_t], \n",
    "        x = [data.positions_s, data.positions_t]\n",
    "    )\n",
    "    loss = criterion(pred, data.y)  # Compute the loss.\n",
    "    predictions.extend(list(pred.detach().numpy()*dat.std+dat.mean))\n",
    "    actuals.extend(list(data.y.detach().numpy()*dat.std+dat.mean))"
   ]
  },
  {
   "cell_type": "code",
   "execution_count": 20,
   "metadata": {},
   "outputs": [
    {
     "ename": "ValueError",
     "evalue": "x and y must have same first dimension, but have shapes (1904,) and (60,)",
     "output_type": "error",
     "traceback": [
      "\u001b[0;31m---------------------------------------------------------------------------\u001b[0m",
      "\u001b[0;31mValueError\u001b[0m                                Traceback (most recent call last)",
      "\u001b[1;32m/raid6/homes/kierannp/projects/megnn/notebooks/cof.ipynb Cell 9\u001b[0m in \u001b[0;36m<cell line: 6>\u001b[0;34m()\u001b[0m\n\u001b[1;32m      <a href='vscode-notebook-cell://ssh-remote%2Brahman/raid6/homes/kierannp/projects/megnn/notebooks/cof.ipynb#X10sdnNjb2RlLXJlbW90ZQ%3D%3D?line=5'>6</a>\u001b[0m \u001b[39mwith\u001b[39;00m plt\u001b[39m.\u001b[39mstyle\u001b[39m.\u001b[39mcontext([\u001b[39m'\u001b[39m\u001b[39mscience\u001b[39m\u001b[39m'\u001b[39m,\u001b[39m'\u001b[39m\u001b[39mno-latex\u001b[39m\u001b[39m'\u001b[39m]):\n\u001b[1;32m      <a href='vscode-notebook-cell://ssh-remote%2Brahman/raid6/homes/kierannp/projects/megnn/notebooks/cof.ipynb#X10sdnNjb2RlLXJlbW90ZQ%3D%3D?line=6'>7</a>\u001b[0m     fig, ax \u001b[39m=\u001b[39m plt\u001b[39m.\u001b[39msubplots()\n\u001b[0;32m----> <a href='vscode-notebook-cell://ssh-remote%2Brahman/raid6/homes/kierannp/projects/megnn/notebooks/cof.ipynb#X10sdnNjb2RlLXJlbW90ZQ%3D%3D?line=7'>8</a>\u001b[0m     ax\u001b[39m.\u001b[39;49mplot(actuals, predictions, \u001b[39m'\u001b[39;49m\u001b[39m.\u001b[39;49m\u001b[39m'\u001b[39;49m,alpha\u001b[39m=\u001b[39;49m\u001b[39m.1\u001b[39;49m)\n\u001b[1;32m      <a href='vscode-notebook-cell://ssh-remote%2Brahman/raid6/homes/kierannp/projects/megnn/notebooks/cof.ipynb#X10sdnNjb2RlLXJlbW90ZQ%3D%3D?line=8'>9</a>\u001b[0m     ax\u001b[39m.\u001b[39mplot(np\u001b[39m.\u001b[39mlinspace(\u001b[39mmin\u001b[39m(predictions), \u001b[39mmax\u001b[39m(predictions),\u001b[39m100\u001b[39m), np\u001b[39m.\u001b[39mlinspace(\u001b[39mmin\u001b[39m(predictions), \u001b[39mmax\u001b[39m(predictions),\u001b[39m100\u001b[39m), linestyle\u001b[39m=\u001b[39m\u001b[39m'\u001b[39m\u001b[39m--\u001b[39m\u001b[39m'\u001b[39m,color\u001b[39m=\u001b[39m\u001b[39m'\u001b[39m\u001b[39mblack\u001b[39m\u001b[39m'\u001b[39m)\n\u001b[1;32m     <a href='vscode-notebook-cell://ssh-remote%2Brahman/raid6/homes/kierannp/projects/megnn/notebooks/cof.ipynb#X10sdnNjb2RlLXJlbW90ZQ%3D%3D?line=10'>11</a>\u001b[0m     \u001b[39m# ax.autoscale(tight=True)\u001b[39;00m\n",
      "File \u001b[0;32m~/.conda/envs/ml/lib/python3.10/site-packages/matplotlib/axes/_axes.py:1632\u001b[0m, in \u001b[0;36mAxes.plot\u001b[0;34m(self, scalex, scaley, data, *args, **kwargs)\u001b[0m\n\u001b[1;32m   1390\u001b[0m \u001b[39m\"\"\"\u001b[39;00m\n\u001b[1;32m   1391\u001b[0m \u001b[39mPlot y versus x as lines and/or markers.\u001b[39;00m\n\u001b[1;32m   1392\u001b[0m \n\u001b[0;32m   (...)\u001b[0m\n\u001b[1;32m   1629\u001b[0m \u001b[39m(``'green'``) or hex strings (``'#008000'``).\u001b[39;00m\n\u001b[1;32m   1630\u001b[0m \u001b[39m\"\"\"\u001b[39;00m\n\u001b[1;32m   1631\u001b[0m kwargs \u001b[39m=\u001b[39m cbook\u001b[39m.\u001b[39mnormalize_kwargs(kwargs, mlines\u001b[39m.\u001b[39mLine2D)\n\u001b[0;32m-> 1632\u001b[0m lines \u001b[39m=\u001b[39m [\u001b[39m*\u001b[39m\u001b[39mself\u001b[39m\u001b[39m.\u001b[39m_get_lines(\u001b[39m*\u001b[39margs, data\u001b[39m=\u001b[39mdata, \u001b[39m*\u001b[39m\u001b[39m*\u001b[39mkwargs)]\n\u001b[1;32m   1633\u001b[0m \u001b[39mfor\u001b[39;00m line \u001b[39min\u001b[39;00m lines:\n\u001b[1;32m   1634\u001b[0m     \u001b[39mself\u001b[39m\u001b[39m.\u001b[39madd_line(line)\n",
      "File \u001b[0;32m~/.conda/envs/ml/lib/python3.10/site-packages/matplotlib/axes/_base.py:312\u001b[0m, in \u001b[0;36m_process_plot_var_args.__call__\u001b[0;34m(self, data, *args, **kwargs)\u001b[0m\n\u001b[1;32m    310\u001b[0m     this \u001b[39m+\u001b[39m\u001b[39m=\u001b[39m args[\u001b[39m0\u001b[39m],\n\u001b[1;32m    311\u001b[0m     args \u001b[39m=\u001b[39m args[\u001b[39m1\u001b[39m:]\n\u001b[0;32m--> 312\u001b[0m \u001b[39myield from\u001b[39;00m \u001b[39mself\u001b[39;49m\u001b[39m.\u001b[39;49m_plot_args(this, kwargs)\n",
      "File \u001b[0;32m~/.conda/envs/ml/lib/python3.10/site-packages/matplotlib/axes/_base.py:498\u001b[0m, in \u001b[0;36m_process_plot_var_args._plot_args\u001b[0;34m(self, tup, kwargs, return_kwargs)\u001b[0m\n\u001b[1;32m    495\u001b[0m     \u001b[39mself\u001b[39m\u001b[39m.\u001b[39maxes\u001b[39m.\u001b[39myaxis\u001b[39m.\u001b[39mupdate_units(y)\n\u001b[1;32m    497\u001b[0m \u001b[39mif\u001b[39;00m x\u001b[39m.\u001b[39mshape[\u001b[39m0\u001b[39m] \u001b[39m!=\u001b[39m y\u001b[39m.\u001b[39mshape[\u001b[39m0\u001b[39m]:\n\u001b[0;32m--> 498\u001b[0m     \u001b[39mraise\u001b[39;00m \u001b[39mValueError\u001b[39;00m(\u001b[39mf\u001b[39m\u001b[39m\"\u001b[39m\u001b[39mx and y must have same first dimension, but \u001b[39m\u001b[39m\"\u001b[39m\n\u001b[1;32m    499\u001b[0m                      \u001b[39mf\u001b[39m\u001b[39m\"\u001b[39m\u001b[39mhave shapes \u001b[39m\u001b[39m{\u001b[39;00mx\u001b[39m.\u001b[39mshape\u001b[39m}\u001b[39;00m\u001b[39m and \u001b[39m\u001b[39m{\u001b[39;00my\u001b[39m.\u001b[39mshape\u001b[39m}\u001b[39;00m\u001b[39m\"\u001b[39m)\n\u001b[1;32m    500\u001b[0m \u001b[39mif\u001b[39;00m x\u001b[39m.\u001b[39mndim \u001b[39m>\u001b[39m \u001b[39m2\u001b[39m \u001b[39mor\u001b[39;00m y\u001b[39m.\u001b[39mndim \u001b[39m>\u001b[39m \u001b[39m2\u001b[39m:\n\u001b[1;32m    501\u001b[0m     \u001b[39mraise\u001b[39;00m \u001b[39mValueError\u001b[39;00m(\u001b[39mf\u001b[39m\u001b[39m\"\u001b[39m\u001b[39mx and y can be no greater than 2D, but have \u001b[39m\u001b[39m\"\u001b[39m\n\u001b[1;32m    502\u001b[0m                      \u001b[39mf\u001b[39m\u001b[39m\"\u001b[39m\u001b[39mshapes \u001b[39m\u001b[39m{\u001b[39;00mx\u001b[39m.\u001b[39mshape\u001b[39m}\u001b[39;00m\u001b[39m and \u001b[39m\u001b[39m{\u001b[39;00my\u001b[39m.\u001b[39mshape\u001b[39m}\u001b[39;00m\u001b[39m\"\u001b[39m)\n",
      "\u001b[0;31mValueError\u001b[0m: x and y must have same first dimension, but have shapes (1904,) and (60,)"
     ]
    }
   ],
   "source": [
    "import scienceplots\n",
    "pparam = dict(xlabel='COF (Prediction)', ylabel='COF (Actual)')\n",
    "\n",
    "with plt.style.context(['science','no-latex']):\n",
    "    fig, ax = plt.subplots()\n",
    "    ax.plot(actuals, predictions, '.',alpha=.1)\n",
    "    ax.plot(np.linspace(min(predictions), max(predictions),100), np.linspace(min(predictions), max(predictions),100), linestyle='--',color='black')\n",
    "\n",
    "    # ax.autoscale(tight=True)\n",
    "    ax.set_xlim(.1,.18)\n",
    "    ax.set_ylim(.1,.18)\n",
    "    ax.set(**pparam)\n",
    "    fig.savefig('gnn.pdf')\n",
    "    fig.savefig('gnn.jpg', dpi=300)"
   ]
  },
  {
   "cell_type": "code",
   "execution_count": null,
   "metadata": {},
   "outputs": [],
   "source": []
  }
 ],
 "metadata": {
  "kernelspec": {
   "display_name": "Python 3",
   "language": "python",
   "name": "python3"
  },
  "language_info": {
   "codemirror_mode": {
    "name": "ipython",
    "version": 3
   },
   "file_extension": ".py",
   "mimetype": "text/x-python",
   "name": "python",
   "nbconvert_exporter": "python",
   "pygments_lexer": "ipython3",
   "version": "3.10.6"
  },
  "orig_nbformat": 4,
  "vscode": {
   "interpreter": {
    "hash": "9491b3946e3dae68dc71ad961ff18d0345229deb30198fdbd70c8f9ebcae2084"
   }
  }
 },
 "nbformat": 4,
 "nbformat_minor": 2
}
